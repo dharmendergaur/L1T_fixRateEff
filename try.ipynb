{
 "cells": [
  {
   "cell_type": "code",
   "execution_count": 1,
   "id": "c736984b-7a14-4924-a4b9-80296c726109",
   "metadata": {},
   "outputs": [],
   "source": [
    "import glob\n",
    "import pandas as pd\n",
    "import numpy as np\n",
    "import awkward as ak\n",
    "\n",
    "import utils.tools as tools\n",
    "import utils.plotting as plotting\n",
    "\n",
    "from collections import OrderedDict, defaultdict\n",
    "import uproot\n",
    "\n",
    "import mplhep as cms\n",
    "import matplotlib.pyplot as plt\n",
    "\n",
    "def getArrays(inputFiles, branches, nFiles=1, fname=\"data.parquet\"):\n",
    "\n",
    "    files = [{file: 'Events'} for file in inputFiles][:nFiles]\n",
    "\n",
    "    # get the data\n",
    "    data = ak.concatenate([batch for batch in uproot.iterate(files, filter_name=branches)])\n",
    "        \n",
    "    data = formatBranches(data)\n",
    "\n",
    "    return data\n",
    "\n",
    "\n",
    "def getL1Types(useEmu=False, useMP=False):\n",
    "    \n",
    "    l1Type = 'L1Emul' if useEmu else 'L1' \n",
    "    l1SumType = l1Type + 'MP' if useMP else l1Type\n",
    "    \n",
    "    return l1Type, l1SumType\n",
    "\n",
    "\n",
    "def getBranches(inputs=[], useEmu=False, useMP=False):\n",
    "    \n",
    "    l1Type, l1SumType = getL1Types(useEmu, useMP)\n",
    "    \n",
    "    sumBranches = [l1SumType + var for var in branches.sumBranches]\n",
    "    all_branches = sumBranches + branches.puppiMETBranches + branches.muonBranches + branches.puppiJetBranches\n",
    "    \n",
    "    for input in inputs:\n",
    "        all_branches += [l1Type + input + \"_\" + var for var in branches.objectBranches]\n",
    "\n",
    "    return all_branches\n",
    "\n",
    "def formatBranches(data):\n",
    "    \n",
    "    # remove the prefixes to the branch names for tidyness\n",
    "    for branch in ak.fields(data):\n",
    "        if branch.startswith(\"Jet_\"):\n",
    "            data[branch.replace(\"Jet\", \"recoJet\")] = data[branch]\n",
    "            del data[branch]\n",
    "            \n",
    "        if \"L1\" in branch:\n",
    "            data[branch.replace(\"L1\", \"\").replace(\"MP\", \"\").replace(\"Emul\", \"\")] = data[branch]\n",
    "            del data[branch]\n",
    "            \n",
    "    return data"
   ]
  },
  {
   "cell_type": "code",
   "execution_count": 2,
   "id": "a2e1fbb0-2843-4372-bcfd-ae8525e7040d",
   "metadata": {},
   "outputs": [
    {
     "name": "stdout",
     "output_type": "stream",
     "text": [
      "[['/eos/home-d/ddharmen/JEC/CMSSW_14_1_4_patch1/src/JETMET/perf_job1/code/L1T_fixRateEff/zb_base/nano_10.root'], ['/eos/home-d/ddharmen/JEC/CMSSW_14_1_4_patch1/src/JETMET/perf_job1/code/L1T_fixRateEff/zb_pumOff/nano_10.root'], ['/eos/home-d/ddharmen/JEC/CMSSW_14_1_4_patch1/src/JETMET/perf_job1/code/L1T_fixRateEff/zb_base/nano_10.root'], ['/eos/home-d/ddharmen/JEC/CMSSW_14_1_4_patch1/src/JETMET/perf_job1/code/L1T_fixRateEff/zb_con/nano_10.root']]\n"
     ]
    }
   ],
   "source": [
    "nComp = 4\n",
    "\n",
    "l1Labels = ['Default', 'Default_noPUM', 'BaselineZS', 'ConservativeZS']\n",
    "branchTypes = ['unp', 'emu', 'emu', 'emu'] # unp or emu\n",
    "rootDir = \"/eos/home-d/ddharmen/JEC/CMSSW_14_1_4_patch1/src/JETMET/perf_job1/code/L1T_fixRateEff/\"\n",
    "\n",
    "sigPaths  = [\"zmu_base/\", \"zmu_pumOff/\", \"zmu_base/\", \"zmu_con/\"]\n",
    "bkgPaths  = [\"zb_base/\", \"zb_pumOff/\", \"zb_base/\", \"zb_con/\"]\n",
    "\n",
    "\n",
    "inputFormat = 'nano'     # nanoAOD\n",
    "#inputFormat = 'hdf5'     # pandas dataframes\n",
    "\n",
    "sigName = \"zmu\"\n",
    "bkgName = \"zb\"\n",
    "\n",
    "writeDir = \"./data/\"\n",
    "\n",
    "# fileName = \"/eos/home-d/ddharmen/JEC/CMSSW_14_1_4_patch1/src/JETMET/zerobias_perf_raw_test/default/nano*.root\"\n",
    "fileName = \"nano_10.root\"\n",
    "# fileName = \"nano_99.root\"\n",
    "\n",
    "sigFiles = [glob.glob(rootDir + path + fileName) for path in sigPaths]\n",
    "bkgFiles = [glob.glob(rootDir + path + fileName) for path in bkgPaths]\n",
    "\n",
    "len(sigFiles)\n",
    "print(bkgFiles)\n",
    "\n",
    "awkSigFiles = [writeDir + \"/\" + sigName + label + \".parq\" for label in l1Labels]\n",
    "awkBkgFiles = [writeDir + \"/\" + bkgName + label + \".parq\" for label in l1Labels]\n",
    "\n",
    "sig_hdf5s = [writeDir + \"/\" + sigName + label + \".hdf5\" for label in l1Labels]\n",
    "bkg_hdf5s = [writeDir + \"/\" + bkgName + label + \".hdf5\" for label in l1Labels]\n",
    "\n",
    "# L1 thresholds (GeV)\n",
    "l1JetThresholds = [30, 120, 180]\n",
    "l1METThresholds = [50, 90]\n",
    "# arrays containing our signal and background data\n",
    "# for the different sets of input files\n",
    "sigs = []\n",
    "bkgs = []\n",
    "\n",
    "sig_dfs = []\n",
    "bkg_dfs = []"
   ]
  },
  {
   "cell_type": "code",
   "execution_count": 3,
   "id": "44ee2431-7ef1-4919-ac29-8701a537b03a",
   "metadata": {},
   "outputs": [
    {
     "name": "stdout",
     "output_type": "stream",
     "text": [
      "Branches selected:  ['L1EtSum_pt', 'L1EtSum_etSumType', 'L1EtSum_bx', 'PuppiMET_pt', 'PuppiMET_phi', 'Muon_pt', 'Muon_phi', 'Muon_isPFcand', 'Jet_pt', 'Jet_eta', 'Jet_phi', 'L1Jet_pt', 'L1Jet_eta', 'L1Jet_phi', 'L1Jet_bx']\n",
      "Branches selected:  ['L1EmulEtSum_pt', 'L1EmulEtSum_etSumType', 'L1EmulEtSum_bx', 'PuppiMET_pt', 'PuppiMET_phi', 'Muon_pt', 'Muon_phi', 'Muon_isPFcand', 'Jet_pt', 'Jet_eta', 'Jet_phi', 'L1EmulJet_pt', 'L1EmulJet_eta', 'L1EmulJet_phi', 'L1EmulJet_bx']\n",
      "Branches selected:  ['L1EmulEtSum_pt', 'L1EmulEtSum_etSumType', 'L1EmulEtSum_bx', 'PuppiMET_pt', 'PuppiMET_phi', 'Muon_pt', 'Muon_phi', 'Muon_isPFcand', 'Jet_pt', 'Jet_eta', 'Jet_phi', 'L1EmulJet_pt', 'L1EmulJet_eta', 'L1EmulJet_phi', 'L1EmulJet_bx']\n",
      "Branches selected:  ['L1EmulEtSum_pt', 'L1EmulEtSum_etSumType', 'L1EmulEtSum_bx', 'PuppiMET_pt', 'PuppiMET_phi', 'Muon_pt', 'Muon_phi', 'Muon_isPFcand', 'Jet_pt', 'Jet_eta', 'Jet_phi', 'L1EmulJet_pt', 'L1EmulJet_eta', 'L1EmulJet_phi', 'L1EmulJet_bx']\n"
     ]
    }
   ],
   "source": [
    "for sigFile, awkSigFile, branchType in  zip(sigFiles, awkSigFiles, branchTypes):\n",
    "    sigs.append(tools.getArrays(sigFile, tools.getBranches(['Jet'], branchType=='emu', False), len(sigFile), awkSigFile))\n",
    "                   \n",
    "# for bkgFile, awkBkgFile, branchType in zip(bkgFiles, awkBkgFiles, branchTypes):\n",
    "#     bkgs.append(tools.getArrays(bkgFile, tools.getBranches(['Jet'], branchType=='emu', False), len(bkgFile), awkBkgFile))"
   ]
  },
  {
   "cell_type": "code",
   "execution_count": 4,
   "id": "b612d265-1fc5-4275-a85c-08e0ef804dad",
   "metadata": {},
   "outputs": [
    {
     "name": "stdout",
     "output_type": "stream",
     "text": [
      "[{Muon_isPFcand: [True, True], Muon_phi: [1.88, ...], Muon_pt: [...], ...}, ...]\n"
     ]
    }
   ],
   "source": [
    "print(sigs[0])\n",
    "# sigs_df = pd.DataFrame(sigs)\n",
    "# print(sigs_df.columns.tolist())  # Returns the column names as a list"
   ]
  },
  {
   "cell_type": "code",
   "execution_count": 5,
   "id": "f4698aa5-36e5-4352-bc3f-460fa2bb8b58",
   "metadata": {},
   "outputs": [
    {
     "name": "stdout",
     "output_type": "stream",
     "text": [
      "['Muon_isPFcand', 'Muon_phi', 'Muon_pt', 'PuppiMET_phi', 'PuppiMET_pt', 'recoJet_eta', 'recoJet_phi', 'recoJet_pt', 'EtSum_bx', 'EtSum_etSumType', 'EtSum_pt', 'Jet_bx', 'Jet_eta', 'Jet_phi', 'Jet_pt']\n",
      "['Muon_isPFcand', 'Muon_phi', 'Muon_pt', 'PuppiMET_phi', 'PuppiMET_pt', 'recoJet_eta', 'recoJet_phi', 'recoJet_pt', 'EtSum_bx', 'EtSum_etSumType', 'EtSum_pt', 'Jet_bx', 'Jet_eta', 'Jet_phi', 'Jet_pt']\n",
      "['Muon_isPFcand', 'Muon_phi', 'Muon_pt', 'PuppiMET_phi', 'PuppiMET_pt', 'recoJet_eta', 'recoJet_phi', 'recoJet_pt', 'EtSum_bx', 'EtSum_etSumType', 'EtSum_pt', 'Jet_bx', 'Jet_eta', 'Jet_phi', 'Jet_pt']\n",
      "['Muon_isPFcand', 'Muon_phi', 'Muon_pt', 'PuppiMET_phi', 'PuppiMET_pt', 'recoJet_eta', 'recoJet_phi', 'recoJet_pt', 'EtSum_bx', 'EtSum_etSumType', 'EtSum_pt', 'Jet_bx', 'Jet_eta', 'Jet_phi', 'Jet_pt']\n"
     ]
    }
   ],
   "source": [
    "for array in sigs:\n",
    "    print(array.fields)"
   ]
  },
  {
   "cell_type": "code",
   "execution_count": null,
   "id": "f32b17c6-cf51-481a-bf45-834020df1a41",
   "metadata": {},
   "outputs": [],
   "source": []
  }
 ],
 "metadata": {
  "kernelspec": {
   "display_name": "Python 3",
   "language": "python",
   "name": "python3"
  },
  "language_info": {
   "codemirror_mode": {
    "name": "ipython",
    "version": 3
   },
   "file_extension": ".py",
   "mimetype": "text/x-python",
   "name": "python",
   "nbconvert_exporter": "python",
   "pygments_lexer": "ipython3",
   "version": "3.11.9"
  }
 },
 "nbformat": 4,
 "nbformat_minor": 5
}
