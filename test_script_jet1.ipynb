{
 "cells": [
  {
   "cell_type": "code",
   "execution_count": 1,
   "metadata": {},
   "outputs": [],
   "source": [
    "import glob\n",
    "import pandas as pd\n",
    "import numpy as np\n",
    "import awkward as ak\n",
    "\n",
    "import utils.tools as tools\n",
    "import utils.plotting as plotting\n",
    "\n",
    "from collections import OrderedDict, defaultdict\n",
    "import uproot\n",
    "\n",
    "import mplhep as cms\n",
    "import matplotlib.pyplot as plt\n",
    "\n",
    "cms.style.use(\"CMS\")\n",
    "plt.rcParams[\"figure.figsize\"] = (7,7)"
   ]
  },
  {
   "cell_type": "code",
   "execution_count": 2,
   "metadata": {},
   "outputs": [],
   "source": [
    "# input data definition\n",
    "# put \"default\" objects first\n",
    "# i.e. those that should be used to obtain fixed rate\n",
    "\n",
    "#nComp = 3\n",
    "\n",
    "#l1Labels = ['L1', 'L1_noJEC', 'L1_noJECnoPUSnoPUM']\n",
    "#branchTypes = ['unp', 'emu', 'emu'] # unp or emu\n",
    "\n",
    "#sigPaths  = [\"zmu24I_noJEC/\", \"zmu24I_noJEC/\", \"zmu24I_noJEC_noPUS_noPUM/\"]\n",
    "#bkgPaths  = [\"zb24I_noJEC/\", \"zb24I_noJEC/\", \"zb24I_noJEC_noPUS_noPUM/\"]\n",
    "\n",
    "nComp = 3\n",
    "\n",
    "l1Labels = ['Default', 'BaselineZS', 'ConservativeZS']\n",
    "branchTypes = ['emu', 'emu', 'emu'] # unp or emu\n"
   ]
  },
  {
   "cell_type": "code",
   "execution_count": 3,
   "metadata": {},
   "outputs": [],
   "source": [
    "# rootDir = \"/eos/home-d/ddharmen/JEC/CMSSW_14_1_4_patch1/src/JETMET/perf_job1/code/L1T_fixRateEff/\"\n",
    "\n",
    "# sigPaths  = [\"zmu_pumOff/\", \"zmu_base/\", \"zmu_con/\"]\n",
    "# bkgPaths  = [\"zb_pumOff/\", \"zb_base/\", \"zb_con/\"]\n",
    "\n",
    "\n",
    "# inputFormat = 'nano'     # nanoAOD\n",
    "# #inputFormat = 'hdf5'     # pandas dataframes\n",
    "\n",
    "# sigName = \"zmu\"\n",
    "# bkgName = \"zb\"\n",
    "\n",
    "# writeDir = \"./data_jet1_test/\"\n",
    "\n",
    "# fileName = \"nano_10.root\"\n",
    "# # fileName = \"nano_99.root\"\n",
    "\n",
    "# sigFiles = [glob.glob(rootDir + path + fileName) for path in sigPaths]\n",
    "# bkgFiles = [glob.glob(rootDir + path + fileName) for path in bkgPaths]\n",
    "\n",
    "# len(sigFiles)\n",
    "# print(bkgFiles)"
   ]
  },
  {
   "cell_type": "code",
   "execution_count": 4,
   "metadata": {},
   "outputs": [
    {
     "name": "stdout",
     "output_type": "stream",
     "text": [
      "[['/eos/home-d/ddharmen/JEC/CMSSW_14_1_4_patch1/src/JETMET/perf_job1/code/L1T_fixRateEff/zb_pumOff/nano_10.root'], ['/eos/home-d/ddharmen/JEC/CMSSW_14_1_4_patch1/src/JETMET/perf_job1/code/L1T_fixRateEff/zb_base/nano_10.root'], ['/eos/home-d/ddharmen/JEC/CMSSW_14_1_4_patch1/src/JETMET/perf_job1/code/L1T_fixRateEff/zb_con/nano_10.root']]\n"
     ]
    }
   ],
   "source": [
    "rootDir = \"/eos/home-d/ddharmen/JEC/CMSSW_14_1_4_patch1/src/JETMET/perf_job1/code/L1T_fixRateEff/\"\n",
    "\n",
    "sigPaths  = [\"zmu_pumOff/\", \"zmu_base/\", \"zmu_con/\"]\n",
    "bkgPaths  = [\"zb_pumOff/\", \"zb_base/\", \"zb_con/\"]\n",
    "\n",
    "\n",
    "inputFormat = 'nano'     # nanoAOD\n",
    "#inputFormat = 'hdf5'     # pandas dataframes\n",
    "\n",
    "sigName = \"zmu\"\n",
    "bkgName = \"zb\"\n",
    "\n",
    "writeDir = \"./data_jetHT_test/\"\n",
    "\n",
    "fileName = \"nano_10.root\"\n",
    "\n",
    "sigFiles = [glob.glob(rootDir + path + fileName) for path in sigPaths]\n",
    "bkgFiles = [glob.glob(rootDir + path + fileName) for path in bkgPaths]\n",
    "\n",
    "len(sigFiles)\n",
    "print(bkgFiles)"
   ]
  },
  {
   "cell_type": "code",
   "execution_count": 5,
   "metadata": {},
   "outputs": [],
   "source": [
    "if len(l1Labels) != nComp or len(branchTypes) != nComp or len(sigFiles) != nComp or len(bkgFiles) != nComp:\n",
    "       raise TypeError(\"Number of inputs datasets is not consistent\")\n",
    "\n",
    "\n",
    "awkSigFiles = [writeDir + \"/\" + sigName + label + \".parq\" for label in l1Labels]\n",
    "awkBkgFiles = [writeDir + \"/\" + bkgName + label + \".parq\" for label in l1Labels]\n",
    "\n",
    "sig_hdf5s = [writeDir + \"/\" + sigName + label + \".hdf5\" for label in l1Labels]\n",
    "bkg_hdf5s = [writeDir + \"/\" + bkgName + label + \".hdf5\" for label in l1Labels]\n",
    "\n",
    "# L1 thresholds (GeV)\n",
    "l1JetThresholds = [30, 120, 180]\n",
    "l1METThresholds = [50, 90]\n",
    "# arrays containing our signal and background data\n",
    "# for the different sets of input files\n",
    "sigs = []\n",
    "bkgs = []\n",
    "\n",
    "sig_dfs = []\n",
    "bkg_dfs = []"
   ]
  },
  {
   "cell_type": "code",
   "execution_count": 6,
   "metadata": {},
   "outputs": [],
   "source": [
    "if inputFormat == 'nano':\n",
    "    \n",
    "    for sigFile, awkSigFile, branchType in  zip(sigFiles, awkSigFiles, branchTypes):\n",
    "        sigs.append(tools.getArrays(sigFile, tools.getBranches(['Jet'], branchType=='emu', False), len(sigFile), awkSigFile))\n",
    "                       \n",
    "    for bkgFile, awkBkgFile, branchType in zip(bkgFiles, awkBkgFiles, branchTypes):\n",
    "        bkgs.append(tools.getArrays(bkgFile, tools.getBranches(['Jet'], branchType=='emu', False), len(bkgFile), awkBkgFile))\n",
    "\n",
    "\n",
    "if inputFormat == 'parquet':\n",
    "\n",
    "    for awkSigFile in awkSigFiles:\n",
    "        sigs.append(ak.from_parquet(awkSigFile))\n",
    "\n",
    "    for awkBkgFile in awkBkgFiles:\n",
    "        bkgs.append(ak.from_parquet(awkBkgFile))"
   ]
  },
  {
   "cell_type": "code",
   "execution_count": 7,
   "metadata": {},
   "outputs": [],
   "source": [
    "# if inputFormat in ['nano', 'parquet']:\n",
    "\n",
    "#     for sig, sig_hdf5, l1Label in zip(sigs, sig_hdf5s, l1Labels):\n",
    "#         # get the puppiJETs\n",
    "#         puppiJET = tools.getPUPPIJET(sig)\n",
    "#         l1JET = tools.getL1EmulJet1(sig)\n",
    "#         print(ak.to_list(l1JET))\n",
    "#         l1JET_df = pd.DataFrame(ak.to_list(l1JET), columns=[l1Label])\n",
    "#         puppiJET_df = pd.DataFrame(ak.to_list(puppiJET['matched_l1_jet']), columns=['puppiJET'])\n",
    "#         # puppiJETNoMu_df = pd.DataFrame(ak.to_list(puppiJETNoMu['recoJet_leadingPt']), columns=['puppiJETNoMu'])\n",
    "#         # save to dataframe\n",
    "#         pd.concat([l1JET_df, puppiJET_df], axis=1).to_hdf(sig_hdf5, l1Label, mode='w')\n",
    "        \n",
    "#     for bkg, bkg_hdf5, l1Label in zip(bkgs, bkg_hdf5s, l1Labels):\n",
    "        \n",
    "#         l1JET_df = pd.DataFrame(ak.to_list(tools.getL1EmulJet1(bkg)), columns=[l1Label])\n",
    "#         l1JET_df.to_hdf(bkg_hdf5, l1Label, mode='w')\n",
    "        \n",
    "    \n",
    "# for sig_hdf5, l1Label in zip(sig_hdf5s, l1Labels):\n",
    "#     sig_dfs.append(pd.read_hdf(sig_hdf5, l1Label))\n",
    "    \n",
    "# for bkg_hdf5, l1Label in zip(bkg_hdf5s, l1Labels):\n",
    "#     bkg_dfs.append(pd.read_hdf(bkg_hdf5, l1Label))"
   ]
  },
  {
   "cell_type": "code",
   "execution_count": 8,
   "metadata": {},
   "outputs": [
    {
     "name": "stderr",
     "output_type": "stream",
     "text": [
      "/tmp/ipykernel_1734/4057120949.py:15: FutureWarning: Starting with pandas version 3.0 all arguments of to_hdf except for the argument 'path_or_buf' will be keyword-only.\n",
      "  pd.concat([l1JET_df, puppiJET_df], axis=1).to_hdf(sig_hdf5, l1Label, mode='w')\n",
      "/tmp/ipykernel_1734/4057120949.py:15: FutureWarning: Starting with pandas version 3.0 all arguments of to_hdf except for the argument 'path_or_buf' will be keyword-only.\n",
      "  pd.concat([l1JET_df, puppiJET_df], axis=1).to_hdf(sig_hdf5, l1Label, mode='w')\n",
      "/tmp/ipykernel_1734/4057120949.py:15: FutureWarning: Starting with pandas version 3.0 all arguments of to_hdf except for the argument 'path_or_buf' will be keyword-only.\n",
      "  pd.concat([l1JET_df, puppiJET_df], axis=1).to_hdf(sig_hdf5, l1Label, mode='w')\n",
      "/tmp/ipykernel_1734/4057120949.py:22: FutureWarning: Starting with pandas version 3.0 all arguments of to_hdf except for the argument 'path_or_buf' will be keyword-only.\n",
      "  l1JET_df.to_hdf(bkg_hdf5, l1Label, mode='w')\n"
     ]
    }
   ],
   "source": [
    "import awkward as ak\n",
    "import pandas as pd\n",
    "\n",
    "if inputFormat in ['nano', 'parquet']:\n",
    "    for sig, sig_hdf5, l1Label in zip(sigs, sig_hdf5s, l1Labels):\n",
    "        # get the puppiJETs\n",
    "        puppiJET = tools.getPUPPIJET(sig)\n",
    "\n",
    "        l1JET_df = pd.DataFrame(ak.to_list(tools.getL1EmulJet1(sig)), columns=[l1Label])\n",
    "        puppiJET_df = pd.DataFrame(ak.to_list(puppiJET['matched_l1_jet']), columns=['puppiJET'])\n",
    "        l1JET_df = pd.DataFrame(ak.to_list(tools.getL1EmulHT(sig)), columns=[l1Label])\n",
    "        puppiJET_df = pd.DataFrame(ak.to_list(puppiJET['recoJet_ht']), columns=['puppiJET'])\n",
    "\n",
    "        # save to dataframe\n",
    "        pd.concat([l1JET_df, puppiJET_df], axis=1).to_hdf(sig_hdf5, l1Label, mode='w')\n",
    "        \n",
    "    for bkg, bkg_hdf5, l1Label in zip(bkgs, bkg_hdf5s, l1Labels):\n",
    "        l1JET_df = pd.DataFrame(ak.to_list(tools.getL1EmulJet1(bkg)), columns=[l1Label])\n",
    "        # l1JET_df = pd.DataFrame(ak.to_list(tools.getL1EmulHT(bkg)), columns=[l1Label])\n",
    "        \n",
    "        # save to dataframe\n",
    "        l1JET_df.to_hdf(bkg_hdf5, l1Label, mode='w')\n",
    "        \n",
    "for sig_hdf5, l1Label in zip(sig_hdf5s, l1Labels):\n",
    "    sig_dfs.append(pd.read_hdf(sig_hdf5, l1Label))\n",
    "    \n",
    "for bkg_hdf5, l1Label in zip(bkg_hdf5s, l1Labels):\n",
    "    bkg_dfs.append(pd.read_hdf(bkg_hdf5, l1Label))"
   ]
  },
  {
   "cell_type": "code",
   "execution_count": 9,
   "metadata": {},
   "outputs": [
    {
     "name": "stdout",
     "output_type": "stream",
     "text": [
      "31\n",
      "122\n",
      "181\n",
      "33\n",
      "127\n",
      "185\n",
      "[[30, 120, 180], [31, 122, 181], [33, 127, 185]]\n"
     ]
    },
    {
     "data": {
      "image/png": "[encoded data removed]",
      "text/plain": [
       "<Figure size 432x288 with 1 Axes>"
      ]
     },
     "metadata": {
      "needs_background": "light"
     },
     "output_type": "display_data"
    }
   ],
   "source": [
    "# make fixed rate MET efficiencies\n",
    "\n",
    "# rate plots must be in bins of GeV\n",
    "ptRange = [0,200]\n",
    "bins = ptRange[1]\n",
    "\n",
    "l1METRates = []\n",
    "l1JetThresholdsArr = [l1JetThresholds]\n",
    "\n",
    "# get rate hist for \"default\" objects\n",
    "rateScale = 40000000*(2452/3564)/len(bkg_dfs[0])\n",
    "rateHist = plt.hist(bkg_dfs[0], bins=bins, range=ptRange, histtype = 'step', label=l1Labels[0], cumulative=-1, log=True, weights=np.full(len(bkg_dfs[0]), rateScale))\n",
    "\n",
    "for l1JetThreshold in l1JetThresholds:\n",
    "    # get rates for the default thresholds\n",
    "    l1METRate = rateHist[0][l1JetThreshold]\n",
    "    l1METRates.append(l1METRate)\n",
    "\n",
    "for i in range(1, nComp):\n",
    "    # get thresholds for the fixed rates\n",
    "    rateScale = 40000000*(2452/3564)/len(bkg_dfs[i])\n",
    "    rateHist = plt.hist(bkg_dfs[i], bins=bins, range=ptRange, histtype = 'step', label=l1Labels[i], cumulative=-1, log=True, weights=np.full(len(bkg_dfs[i]), rateScale))\n",
    "    thresholds = []\n",
    "    for l1JetThreshold in l1JetThresholds:\n",
    "        # get threshold for this rate\n",
    "        thresholds.append(plotting.getThreshForRate(rateHist[0], bins, l1METRates[l1JetThresholds.index(l1JetThreshold)]))\n",
    "        print(plotting.getThreshForRate(rateHist[0], bins, l1METRates[l1JetThresholds.index(l1JetThreshold)]))\n",
    "    l1JetThresholdsArr.append(thresholds)\n",
    "\n",
    "plt.legend()\n",
    "\n",
    "print(l1JetThresholdsArr)"
   ]
  },
  {
   "cell_type": "code",
   "execution_count": 10,
   "metadata": {},
   "outputs": [
    {
     "name": "stderr",
     "output_type": "stream",
     "text": [
      "/cvmfs/sft.cern.ch/lcg/views/LCG_106a_swan/x86_64-el9-gcc13-opt/lib/python3.11/site-packages/awkward/_nplikes/array_module.py:246: RuntimeWarning: invalid value encountered in divide\n",
      "  return impl(*broadcasted_args, **(kwargs or {}))\n"
     ]
    },
    {
     "data": {
      "text/plain": [
       "<matplotlib.legend.Legend at 0x7f694d472e90>"
      ]
     },
     "execution_count": 10,
     "metadata": {},
     "output_type": "execute_result"
    },
    {
     "data": {
      "image/png": "[encoded data removed]",
      "text/plain": [
       "<Figure size 432x288 with 1 Axes>"
      ]
     },
     "metadata": {
      "needs_background": "light"
     },
     "output_type": "display_data"
    }
   ],
   "source": [
    "\n",
    "# plot the MET efficiency\n",
    "for sig_df, l1Label, l1JetThresholds in zip(sig_dfs, l1Labels, l1JetThresholdsArr):\n",
    "        for l1JetThreshold in l1JetThresholds:\n",
    "                eff_data, xvals,err = plotting.efficiency(sig_df[l1Label], sig_df['puppiJET'], l1JetThreshold, 10, 400)\n",
    "                plt.scatter(xvals, eff_data, label=l1Label + \" > \" + str(l1JetThreshold))\n",
    "\n",
    "plt.axhline(0.95, linestyle='--', color='black')\n",
    "plt.legend(fontsize=10)"
   ]
  }
 ],
 "metadata": {
  "kernelspec": {
   "display_name": "Python 3",
   "language": "python",
   "name": "python3"
  },
  "language_info": {
   "codemirror_mode": {
    "name": "ipython",
    "version": 3
   },
   "file_extension": ".py",
   "mimetype": "text/x-python",
   "name": "python",
   "nbconvert_exporter": "python",
   "pygments_lexer": "ipython3",
   "version": "3.11.9"
  }
 },
 "nbformat": 4,
 "nbformat_minor": 4
}
